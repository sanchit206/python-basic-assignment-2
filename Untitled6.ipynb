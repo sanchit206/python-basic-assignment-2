{
 "cells": [
  {
   "cell_type": "markdown",
   "id": "70fb1ce1-5aab-4e80-a3f9-163886df85e3",
   "metadata": {},
   "source": [
    "1.What are the two values of the Boolean data type? How do you write them?"
   ]
  },
  {
   "cell_type": "raw",
   "id": "54a2e73f-d5c2-4e9f-88cd-59ebd9942d19",
   "metadata": {},
   "source": [
    "There are 2 types of boolean data. The result of a Boolean expression is either true or false."
   ]
  },
  {
   "cell_type": "markdown",
   "id": "80c96366-7040-460e-8d28-ba13be9af5b2",
   "metadata": {},
   "source": [
    "2. What are the three different types of Boolean operators?"
   ]
  },
  {
   "cell_type": "raw",
   "id": "406df4b2-f25f-4810-93a0-f470c4aed1ab",
   "metadata": {},
   "source": [
    "The three basic boolean operators are AND, OR, and NOT."
   ]
  },
  {
   "cell_type": "markdown",
   "id": "b53816cd-b306-4a6a-b769-c0382414f875",
   "metadata": {},
   "source": [
    "3. Make a list of each Boolean operator's truth tables (i.e. every possible combination of Boolean values for the operator and what it evaluate ).\n"
   ]
  },
  {
   "cell_type": "raw",
   "id": "4d5dd2e7-3076-4ca5-b384-08ad08aa855e",
   "metadata": {},
   "source": [
    "AND truth table\n",
    "\n",
    "TRUE\tTRUE\tTRUE\n",
    "TRUE\tFALSE\tFALSE\n",
    "FALSE\tTRUE\tFALSE\n",
    "FALSE\tFALSE\tFALSE\n",
    "\n",
    "OR truth table\n",
    "\n",
    "TRUE\tTRUE\tTRUE\n",
    "TRUE\tFALSE\tTRUE\n",
    "FALSE\tTRUE\tTRUE\n",
    "FALSE\tFALSE\tFALSE"
   ]
  },
  {
   "cell_type": "markdown",
   "id": "e44a01b8-9281-499d-b2db-51033270b236",
   "metadata": {},
   "source": [
    "4. What are the values of the following expressions?\n",
    "(5 > 4) and (3 == 5)\n",
    "not (5 > 4)\n",
    "(5 > 4) or (3 == 5)\n",
    "not ((5 > 4) or (3 == 5))\n",
    "(True and True) and (True == False)\n",
    "(not False) or (not True)\n"
   ]
  },
  {
   "cell_type": "code",
   "execution_count": 2,
   "id": "01edbf25-64a5-468a-bb9f-68e6325a4c1d",
   "metadata": {},
   "outputs": [
    {
     "data": {
      "text/plain": [
       "False"
      ]
     },
     "execution_count": 2,
     "metadata": {},
     "output_type": "execute_result"
    }
   ],
   "source": [
    "(5 > 4) and (3 == 5)"
   ]
  },
  {
   "cell_type": "code",
   "execution_count": 3,
   "id": "fc69efa3-a146-4280-83c2-9ed6d19313ca",
   "metadata": {},
   "outputs": [
    {
     "data": {
      "text/plain": [
       "False"
      ]
     },
     "execution_count": 3,
     "metadata": {},
     "output_type": "execute_result"
    }
   ],
   "source": [
    "not (5 > 4)"
   ]
  },
  {
   "cell_type": "code",
   "execution_count": 4,
   "id": "24cec777-b8b7-4d1e-988c-ee87b41b22f6",
   "metadata": {},
   "outputs": [
    {
     "data": {
      "text/plain": [
       "True"
      ]
     },
     "execution_count": 4,
     "metadata": {},
     "output_type": "execute_result"
    }
   ],
   "source": [
    "(5 > 4) or (3 == 5)"
   ]
  },
  {
   "cell_type": "code",
   "execution_count": 5,
   "id": "4795b42a-6040-4c6b-b8d1-0f56fd5b7a88",
   "metadata": {},
   "outputs": [
    {
     "data": {
      "text/plain": [
       "False"
      ]
     },
     "execution_count": 5,
     "metadata": {},
     "output_type": "execute_result"
    }
   ],
   "source": [
    "(True and True) and (True == False)"
   ]
  },
  {
   "cell_type": "code",
   "execution_count": 6,
   "id": "36ad9f8e-31e8-480a-abb6-69dd7909988f",
   "metadata": {},
   "outputs": [
    {
     "data": {
      "text/plain": [
       "True"
      ]
     },
     "execution_count": 6,
     "metadata": {},
     "output_type": "execute_result"
    }
   ],
   "source": [
    "(not False) or (not True)"
   ]
  },
  {
   "cell_type": "markdown",
   "id": "c5cb0003-52f2-4090-9240-0c6ad3bba8df",
   "metadata": {},
   "source": [
    "5. What are the six comparison operators?"
   ]
  },
  {
   "cell_type": "raw",
   "id": "c5801335-2508-4902-b9a4-232c1f916d54",
   "metadata": {},
   "source": [
    "less than ( < )\n",
    "less than or equal to ( <= )\n",
    "greater than ( > )\n",
    "greater than or equal to ( >= )\n",
    "equal to ( == )\n",
    "and not equal to ( != )"
   ]
  },
  {
   "cell_type": "markdown",
   "id": "4cccfaad-1db1-4c2d-a9f8-d71a07a2afa0",
   "metadata": {},
   "source": [
    "6. How do you tell the difference between the equal to and assignment operators?Describe a condition and when you would use one."
   ]
  },
  {
   "cell_type": "raw",
   "id": "cdb644fe-abec-4b61-9b96-813e90cc0b9c",
   "metadata": {},
   "source": [
    "The \"=\" assignment operator is used to assign the value to variable. The '==' operator checks whether the two given operands are equal or not."
   ]
  },
  {
   "cell_type": "code",
   "execution_count": 8,
   "id": "98aac004-eb0c-427b-80ea-df5247824383",
   "metadata": {},
   "outputs": [],
   "source": [
    "i=10"
   ]
  },
  {
   "cell_type": "code",
   "execution_count": 9,
   "id": "48c7169b-cae3-4461-8e82-57722a41342e",
   "metadata": {},
   "outputs": [
    {
     "data": {
      "text/plain": [
       "False"
      ]
     },
     "execution_count": 9,
     "metadata": {},
     "output_type": "execute_result"
    }
   ],
   "source": [
    "i==20"
   ]
  },
  {
   "cell_type": "markdown",
   "id": "2d2cfc63-5d62-4ecd-b89f-c3f0af9e9e9b",
   "metadata": {},
   "source": [
    "7. Identify the three blocks in this code:\n",
    "spam = 0\n",
    "if spam == 10:\n",
    "print('eggs')\n",
    "if spam > 5:\n",
    "print('bacon')\n",
    "else:\n",
    "print('ham')\n",
    "print('spam')\n",
    "print('spam')"
   ]
  },
  {
   "cell_type": "raw",
   "id": "cabc638f-0a95-4176-a963-896bee6a24d7",
   "metadata": {},
   "source": [
    "spam = 0\n",
    "# if part\n",
    "if spam == 10:\n",
    "print('eggs')\n",
    "\n",
    "# if part\n",
    "if spam > 5:\n",
    "print('bacon')\n",
    "\n",
    "# else part\n",
    "else:\n",
    "print('ham')\n",
    "print('spam')\n",
    "print('spam')"
   ]
  },
  {
   "cell_type": "markdown",
   "id": "a4960027-30b0-4b7f-841f-eb061c94724f",
   "metadata": {},
   "source": [
    "8. Write code that prints Hello if 1 is stored in spam, prints Howdy if 2 is stored in spam, and prints Greetings! if anything else is stored in spam"
   ]
  },
  {
   "cell_type": "code",
   "execution_count": 10,
   "id": "ebafb77b-4817-448d-85a5-cdfdc64c770d",
   "metadata": {},
   "outputs": [
    {
     "name": "stdout",
     "output_type": "stream",
     "text": [
      "Hello\n"
     ]
    }
   ],
   "source": [
    "spam=1\n",
    "\n",
    "if spam==1:\n",
    "    print(\"Hello\")\n",
    "elif spam==2:\n",
    "    print(\"Howdy\")\n",
    "else:\n",
    "    print(\"Greetings!\")\n"
   ]
  },
  {
   "cell_type": "code",
   "execution_count": 12,
   "id": "e51c4f46-78d9-4d5e-8f6f-f781693b7056",
   "metadata": {},
   "outputs": [
    {
     "name": "stdout",
     "output_type": "stream",
     "text": [
      "Howdy\n"
     ]
    }
   ],
   "source": [
    "spam=2\n",
    "\n",
    "if spam==1:\n",
    "    print(\"Hello\")\n",
    "elif spam==2:\n",
    "    print(\"Howdy\")\n",
    "else:\n",
    "    print(\"Greetings!\")\n"
   ]
  },
  {
   "cell_type": "code",
   "execution_count": 11,
   "id": "b8330fb3-b037-44b3-a59b-294015c47f4d",
   "metadata": {},
   "outputs": [
    {
     "name": "stdout",
     "output_type": "stream",
     "text": [
      "Greetings!\n"
     ]
    }
   ],
   "source": [
    "spam=11\n",
    "\n",
    "if spam==1:\n",
    "    print(\"Hello\")\n",
    "elif spam==2:\n",
    "    print(\"Howdy\")\n",
    "else:\n",
    "    print(\"Greetings!\")\n"
   ]
  },
  {
   "cell_type": "markdown",
   "id": "0afb842d-beb6-40c6-9571-6290a2f58035",
   "metadata": {},
   "source": [
    "9.If your programme is stuck in an endless loop, what keys you’ll press?"
   ]
  },
  {
   "cell_type": "raw",
   "id": "31acaf3c-411a-411b-ba90-4202a1d2c506",
   "metadata": {},
   "source": [
    "Endless loop can stop with CTRL + C ."
   ]
  },
  {
   "cell_type": "markdown",
   "id": "bd99dfb0-0b9a-4ebf-9c33-51a4e507de22",
   "metadata": {},
   "source": [
    "10. How can you tell the difference between break and continue?"
   ]
  },
  {
   "cell_type": "raw",
   "id": "d056a4ea-5997-4e6b-97e6-4bca93dcc89b",
   "metadata": {},
   "source": [
    "Break is used to stop the execution of the loop at a specific condition.\n",
    "Continue is used to skip a particular iteration of the loop.\n"
   ]
  },
  {
   "cell_type": "markdown",
   "id": "857b7af7-0acd-47ea-8c13-6151e5044da0",
   "metadata": {},
   "source": [
    "11. In a for loop, what is the difference between range(10), range(0, 10), and range(0, 10, 1)?"
   ]
  },
  {
   "cell_type": "code",
   "execution_count": 15,
   "id": "f18d45fc-4d16-45d8-b50e-a79383be2e91",
   "metadata": {},
   "outputs": [
    {
     "name": "stdout",
     "output_type": "stream",
     "text": [
      "0 1 2 3 4 5 6 7 8 9 "
     ]
    }
   ],
   "source": [
    "for i in range(10):\n",
    "    print(i,end=\" \")"
   ]
  },
  {
   "cell_type": "code",
   "execution_count": 14,
   "id": "cd15110d-0f5c-4bfb-8d90-48c9128a3c81",
   "metadata": {},
   "outputs": [
    {
     "name": "stdout",
     "output_type": "stream",
     "text": [
      "0 1 2 3 4 5 6 7 8 9 "
     ]
    }
   ],
   "source": [
    "for i in range(0,10):\n",
    "    print(i,end=\" \")"
   ]
  },
  {
   "cell_type": "code",
   "execution_count": 13,
   "id": "50a574e3-5a7e-4863-8e55-41306cb80dc2",
   "metadata": {},
   "outputs": [
    {
     "name": "stdout",
     "output_type": "stream",
     "text": [
      "0 1 2 3 4 5 6 7 8 9 "
     ]
    }
   ],
   "source": [
    "for i in range(0,10,1):\n",
    "    print(i,end=\" \")"
   ]
  },
  {
   "cell_type": "markdown",
   "id": "b40dd58c-af41-4918-b8fa-de08fc3d20ba",
   "metadata": {},
   "source": [
    "12. Write a short program that prints the numbers 1 to 10 using a for loop. Then write an equivalent program that prints the numbers 1 to 10 using a while loop."
   ]
  },
  {
   "cell_type": "code",
   "execution_count": 16,
   "id": "3b0c1370-7340-4700-b7cd-c0868a5b5d2e",
   "metadata": {},
   "outputs": [
    {
     "name": "stdout",
     "output_type": "stream",
     "text": [
      "1 2 3 4 5 6 7 8 9 10 "
     ]
    }
   ],
   "source": [
    "for i in range(1,11):\n",
    "    print(i,end=\" \")"
   ]
  },
  {
   "cell_type": "code",
   "execution_count": 20,
   "id": "fadc1b89-0455-4ce1-a0b3-37b3807e57dd",
   "metadata": {},
   "outputs": [
    {
     "name": "stdout",
     "output_type": "stream",
     "text": [
      "1 2 3 4 5 6 7 8 9 10 "
     ]
    }
   ],
   "source": [
    "i=1\n",
    "while(i<11):\n",
    "    print(i,end=\" \")\n",
    "    i += 1"
   ]
  },
  {
   "cell_type": "markdown",
   "id": "9f864c3c-dd8f-410d-9e9e-90a51052a7a0",
   "metadata": {},
   "source": [
    "13. If you had a function named bacon() inside a module named spam, how would you call it after importing spam?"
   ]
  },
  {
   "cell_type": "code",
   "execution_count": null,
   "id": "6c1a27db-b35e-4342-ba61-e8b16a352dd0",
   "metadata": {},
   "outputs": [],
   "source": []
  }
 ],
 "metadata": {
  "kernelspec": {
   "display_name": "Python 3 (ipykernel)",
   "language": "python",
   "name": "python3"
  },
  "language_info": {
   "codemirror_mode": {
    "name": "ipython",
    "version": 3
   },
   "file_extension": ".py",
   "mimetype": "text/x-python",
   "name": "python",
   "nbconvert_exporter": "python",
   "pygments_lexer": "ipython3",
   "version": "3.10.6"
  }
 },
 "nbformat": 4,
 "nbformat_minor": 5
}
